{
 "cells": [
  {
   "cell_type": "markdown",
   "metadata": {},
   "source": [
    "# Validation curve and bias/variance dilemma\n",
    "\n",
    "In this notebook we would like to discuss the bias/variance dilemma on the example of a decision tree classifier using a data set with failure/success information for data points."
   ]
  },
  {
   "cell_type": "code",
   "execution_count": 1,
   "metadata": {},
   "outputs": [],
   "source": [
    "#import necessary packages\n",
    "import pandas as pd\n",
    "import numpy as np\n",
    "\n",
    "from sklearn.model_selection import train_test_split\n",
    "from sklearn.preprocessing import StandardScaler\n",
    "\n",
    "%matplotlib inline\n",
    "import matplotlib.pyplot as plt\n",
    "\n",
    "from helper import plot_classifier #helper.py is saved in the repository"
   ]
  },
  {
   "cell_type": "code",
   "execution_count": 2,
   "metadata": {},
   "outputs": [
    {
     "data": {
      "text/html": [
       "<div>\n",
       "<style scoped>\n",
       "    .dataframe tbody tr th:only-of-type {\n",
       "        vertical-align: middle;\n",
       "    }\n",
       "\n",
       "    .dataframe tbody tr th {\n",
       "        vertical-align: top;\n",
       "    }\n",
       "\n",
       "    .dataframe thead th {\n",
       "        text-align: right;\n",
       "    }\n",
       "</style>\n",
       "<table border=\"1\" class=\"dataframe\">\n",
       "  <thead>\n",
       "    <tr style=\"text-align: right;\">\n",
       "      <th></th>\n",
       "      <th>age</th>\n",
       "      <th>interest</th>\n",
       "      <th>success</th>\n",
       "    </tr>\n",
       "  </thead>\n",
       "  <tbody>\n",
       "    <tr>\n",
       "      <th>0</th>\n",
       "      <td>23.657801</td>\n",
       "      <td>18.859917</td>\n",
       "      <td>0.0</td>\n",
       "    </tr>\n",
       "    <tr>\n",
       "      <th>1</th>\n",
       "      <td>22.573729</td>\n",
       "      <td>17.969223</td>\n",
       "      <td>0.0</td>\n",
       "    </tr>\n",
       "    <tr>\n",
       "      <th>2</th>\n",
       "      <td>32.553424</td>\n",
       "      <td>29.463651</td>\n",
       "      <td>0.0</td>\n",
       "    </tr>\n",
       "    <tr>\n",
       "      <th>3</th>\n",
       "      <td>6.718035</td>\n",
       "      <td>25.704665</td>\n",
       "      <td>1.0</td>\n",
       "    </tr>\n",
       "    <tr>\n",
       "      <th>4</th>\n",
       "      <td>14.401919</td>\n",
       "      <td>16.770856</td>\n",
       "      <td>0.0</td>\n",
       "    </tr>\n",
       "  </tbody>\n",
       "</table>\n",
       "</div>"
      ],
      "text/plain": [
       "         age   interest  success\n",
       "0  23.657801  18.859917      0.0\n",
       "1  22.573729  17.969223      0.0\n",
       "2  32.553424  29.463651      0.0\n",
       "3   6.718035  25.704665      1.0\n",
       "4  14.401919  16.770856      0.0"
      ]
     },
     "execution_count": 2,
     "metadata": {},
     "output_type": "execute_result"
    }
   ],
   "source": [
    "#defining the data frame\n",
    "df = pd.read_csv(\"classification.csv\")\n",
    "\n",
    "df.head()"
   ]
  },
  {
   "cell_type": "code",
   "execution_count": 3,
   "metadata": {},
   "outputs": [],
   "source": [
    "#define variables\n",
    "X = df[[\"age\",\"interest\"]].values\n",
    "\n",
    "Y = df[\"success\"].values # single brackets\n",
    "\n",
    "X_train, X_test, Y_train, Y_test = train_test_split(X, Y, random_state = 0, test_size = .25)\n",
    "\n",
    "#rescaling of training and test data for decision tree is not needed"
   ]
  },
  {
   "cell_type": "code",
   "execution_count": 4,
   "metadata": {},
   "outputs": [
    {
     "name": "stdout",
     "output_type": "stream",
     "text": [
      "0.9466666666666667\n"
     ]
    }
   ],
   "source": [
    "from sklearn.tree import DecisionTreeClassifier\n",
    "\n",
    "model = DecisionTreeClassifier(criterion = \"entropy\")\n",
    "model.fit(X_train, Y_train)\n",
    "\n",
    "Y_predicted = model.predict(X_test)\n",
    "\n",
    "print(model.score(X_test, Y_test))"
   ]
  },
  {
   "cell_type": "code",
   "execution_count": 12,
   "metadata": {},
   "outputs": [
    {
     "name": "stderr",
     "output_type": "stream",
     "text": [
      "/Users/Andreas/anaconda3/lib/python3.6/site-packages/sklearn/model_selection/_split.py:2053: FutureWarning: You should specify a value for 'cv' instead of relying on the default value. The default value will change from 3 to 5 in version 0.22.\n",
      "  warnings.warn(CV_WARNING, FutureWarning)\n"
     ]
    }
   ],
   "source": [
    "#training the models(s) for a range via the validation_curve function of sklearn\n",
    "from sklearn.model_selection import validation_curve\n",
    "from sklearn.tree import DecisionTreeClassifier\n",
    "\n",
    "param_range = np.array([10, 9, 8, 7, 6, 5, 4, 3, 2, 1])\n",
    "\n",
    "train_scores, test_scores = validation_curve(DecisionTreeClassifier(criterion = \"entropy\"), X, Y, param_name = \"max_depth\", param_range = param_range)\n"
   ]
  },
  {
   "cell_type": "code",
   "execution_count": 13,
   "metadata": {},
   "outputs": [
    {
     "name": "stdout",
     "output_type": "stream",
     "text": [
      "[[1.         0.99494949 1.        ]\n",
      " [1.         1.         1.        ]\n",
      " [1.         0.98989899 1.        ]\n",
      " [1.         0.98989899 1.        ]\n",
      " [0.98984772 0.98484848 0.99497487]\n",
      " [0.96954315 0.97979798 0.98994975]\n",
      " [0.96446701 0.97979798 0.97487437]\n",
      " [0.93401015 0.95959596 0.95477387]\n",
      " [0.93401015 0.95454545 0.94974874]\n",
      " [0.87817259 0.89393939 0.86432161]]\n"
     ]
    }
   ],
   "source": [
    "#printing the train_scores for the range of 40 neighbors to 1 neighbor:\n",
    "print(train_scores)"
   ]
  },
  {
   "cell_type": "code",
   "execution_count": 14,
   "metadata": {},
   "outputs": [
    {
     "name": "stdout",
     "output_type": "stream",
     "text": [
      "[[0.96       0.8989899  0.93877551]\n",
      " [0.96       0.88888889 0.93877551]\n",
      " [0.95       0.90909091 0.93877551]\n",
      " [0.95       0.88888889 0.93877551]\n",
      " [0.97       0.88888889 0.93877551]\n",
      " [0.96       0.88888889 0.93877551]\n",
      " [0.96       0.88888889 0.94897959]\n",
      " [0.96       0.91919192 0.92857143]\n",
      " [0.96       0.92929293 0.92857143]\n",
      " [0.87       0.84848485 0.89795918]]\n"
     ]
    }
   ],
   "source": [
    "print(test_scores)"
   ]
  },
  {
   "cell_type": "code",
   "execution_count": 15,
   "metadata": {},
   "outputs": [
    {
     "data": {
      "image/png": "[encoded data removed]",
      "text/plain": [
       "<Figure size 432x288 with 1 Axes>"
      ]
     },
     "metadata": {
      "image/png": {
       "height": 248,
       "width": 378
      },
      "needs_background": "light"
     },
     "output_type": "display_data"
    }
   ],
   "source": [
    "#plotting the score data, however, taking the mean only over values for the same param_range value - therefore axis = 1\n",
    "plt.plot(param_range, np.mean(train_scores, axis = 1))\n",
    "plt.plot(param_range, np.mean(test_scores, axis = 1))\n",
    "\n",
    "plt.show()"
   ]
  },
  {
   "cell_type": "markdown",
   "metadata": {},
   "source": [
    "Comment: The region towards zero indicates an underfitting as the tree only possesses a small amount of branches. Thus, such a model will generalize to stronlgy without mapping the pecularities of the data set (i.e. the model is biased). This can be tackled with allowing deeper trees at the risk of introducing overfitting (i.e. the model suffers from variance). A depth value of 2 seems ideal for the given data. "
   ]
  },
  {
   "cell_type": "markdown",
   "metadata": {},
   "source": [
    "In the following we would like to make an experiment by locking in the depth of the tree to the just found value and repeat the validation curve analysis for the parameter \"min_samples_leaf\". This parameter represents the minimum number of samples required to be at a leaf node."
   ]
  },
  {
   "cell_type": "code",
   "execution_count": 72,
   "metadata": {},
   "outputs": [
    {
     "name": "stderr",
     "output_type": "stream",
     "text": [
      "/Users/Andreas/anaconda3/lib/python3.6/site-packages/sklearn/model_selection/_split.py:2053: FutureWarning: You should specify a value for 'cv' instead of relying on the default value. The default value will change from 3 to 5 in version 0.22.\n",
      "  warnings.warn(CV_WARNING, FutureWarning)\n"
     ]
    }
   ],
   "source": [
    "#training the models(s) for a range via the validation_curve function of sklearn\n",
    "from sklearn.model_selection import validation_curve\n",
    "from sklearn.tree import DecisionTreeClassifier\n",
    "\n",
    "param_range = np.array([50,45,40,35,30,25,20,19,18,17,16,15,14,13,12,11,10, 9, 8, 7, 6, 5, 4, 3, 2, 1])\n",
    "\n",
    "train_scores, test_scores = validation_curve(DecisionTreeClassifier(criterion = \"entropy\", max_depth = 2), X, Y, param_name = \"min_samples_leaf\", param_range = param_range)\n"
   ]
  },
  {
   "cell_type": "code",
   "execution_count": 73,
   "metadata": {},
   "outputs": [
    {
     "name": "stdout",
     "output_type": "stream",
     "text": [
      "[[0.87817259 0.89393939 0.86432161]\n",
      " [0.87817259 0.89393939 0.86432161]\n",
      " [0.87817259 0.89393939 0.86432161]\n",
      " [0.87817259 0.89393939 0.86432161]\n",
      " [0.87817259 0.89393939 0.88442211]\n",
      " [0.87817259 0.89393939 0.90954774]\n",
      " [0.87817259 0.91414141 0.93467337]\n",
      " [0.87817259 0.91919192 0.93969849]\n",
      " [0.87817259 0.92424242 0.94472362]\n",
      " [0.9035533  0.92929293 0.94974874]\n",
      " [0.90862944 0.93434343 0.94974874]\n",
      " [0.91370558 0.93939394 0.94974874]\n",
      " [0.91878173 0.94444444 0.94974874]\n",
      " [0.92385787 0.94949495 0.94974874]\n",
      " [0.92893401 0.95454545 0.94974874]\n",
      " [0.93401015 0.95454545 0.94974874]\n",
      " [0.93401015 0.95454545 0.94974874]\n",
      " [0.93401015 0.95454545 0.94974874]\n",
      " [0.93401015 0.95454545 0.94974874]\n",
      " [0.93401015 0.95454545 0.94974874]\n",
      " [0.93401015 0.95454545 0.94974874]\n",
      " [0.93401015 0.95454545 0.94974874]\n",
      " [0.93401015 0.95454545 0.94974874]\n",
      " [0.93401015 0.95454545 0.94974874]\n",
      " [0.93401015 0.95454545 0.94974874]\n",
      " [0.93401015 0.95454545 0.94974874]]\n"
     ]
    }
   ],
   "source": [
    "#printing the train_scores for the range of 40 neighbors to 1 neighbor:\n",
    "print(train_scores)"
   ]
  },
  {
   "cell_type": "code",
   "execution_count": 74,
   "metadata": {},
   "outputs": [
    {
     "name": "stdout",
     "output_type": "stream",
     "text": [
      "[[0.87       0.84848485 0.89795918]\n",
      " [0.87       0.84848485 0.89795918]\n",
      " [0.87       0.84848485 0.89795918]\n",
      " [0.87       0.84848485 0.89795918]\n",
      " [0.87       0.84848485 0.86734694]\n",
      " [0.87       0.84848485 0.90816327]\n",
      " [0.87       0.86868687 0.91836735]\n",
      " [0.87       0.86868687 0.92857143]\n",
      " [0.87       0.86868687 0.92857143]\n",
      " [0.94       0.86868687 0.92857143]\n",
      " [0.96       0.86868687 0.92857143]\n",
      " [0.96       0.87878788 0.92857143]\n",
      " [0.96       0.88888889 0.92857143]\n",
      " [0.96       0.88888889 0.92857143]\n",
      " [0.96       0.92929293 0.92857143]\n",
      " [0.96       0.92929293 0.92857143]\n",
      " [0.96       0.92929293 0.92857143]\n",
      " [0.96       0.92929293 0.92857143]\n",
      " [0.96       0.92929293 0.92857143]\n",
      " [0.96       0.92929293 0.92857143]\n",
      " [0.96       0.92929293 0.92857143]\n",
      " [0.96       0.92929293 0.92857143]\n",
      " [0.96       0.92929293 0.92857143]\n",
      " [0.96       0.92929293 0.92857143]\n",
      " [0.96       0.92929293 0.92857143]\n",
      " [0.96       0.92929293 0.92857143]]\n"
     ]
    }
   ],
   "source": [
    "print(test_scores)"
   ]
  },
  {
   "cell_type": "code",
   "execution_count": 75,
   "metadata": {},
   "outputs": [
    {
     "data": {
      "image/png": "[encoded data removed]",
      "text/plain": [
       "<Figure size 432x288 with 1 Axes>"
      ]
     },
     "metadata": {
      "image/png": {
       "height": 248,
       "width": 381
      },
      "needs_background": "light"
     },
     "output_type": "display_data"
    }
   ],
   "source": [
    "#plotting the score data, however, taking the mean only over values for the same param_range value - therefore axis = 1\n",
    "plt.plot(param_range, np.mean(train_scores, axis = 1))\n",
    "plt.plot(param_range, np.mean(test_scores, axis = 1))\n",
    "\n",
    "#to turn around the X-axis\n",
    "plt.xlim(np.max(param_range), 0)\n",
    "\n",
    "plt.show()"
   ]
  },
  {
   "cell_type": "markdown",
   "metadata": {},
   "source": [
    "Comment: A region between 10 to 1 samples at a leaf node seems to be ideal for the given depth."
   ]
  },
  {
   "cell_type": "code",
   "execution_count": null,
   "metadata": {},
   "outputs": [],
   "source": []
  }
 ],
 "metadata": {
  "kernelspec": {
   "display_name": "Python 3",
   "language": "python",
   "name": "python3"
  },
  "language_info": {
   "codemirror_mode": {
    "name": "ipython",
    "version": 3
   },
   "file_extension": ".py",
   "mimetype": "text/x-python",
   "name": "python",
   "nbconvert_exporter": "python",
   "pygments_lexer": "ipython3",
   "version": "3.6.7"
  }
 },
 "nbformat": 4,
 "nbformat_minor": 2
}
